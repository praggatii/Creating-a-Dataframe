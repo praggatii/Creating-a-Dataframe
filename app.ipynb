{
 "cells": [
  {
   "cell_type": "markdown",
   "metadata": {},
   "source": [
    "# This folder shows that:\n",
    "1) we can use API in Jupyter Notebook using Thread.\n",
    "2) Also, Instead of @app.get we can also use @app.route but along with (/users), we also need to give method. Like we did in folder app.py\n",
    "\n",
    "  syntax: @app.route('/users', methods=['GET'])"
   ]
  },
  {
   "cell_type": "code",
   "execution_count": 1,
   "metadata": {},
   "outputs": [],
   "source": [
    "from flask import Flask, request, jsonify"
   ]
  },
  {
   "cell_type": "code",
   "execution_count": 2,
   "metadata": {},
   "outputs": [],
   "source": [
    "# Create Our Flask Server/App\n",
    "app = Flask(__name__)\n",
    "import threading"
   ]
  },
  {
   "cell_type": "code",
   "execution_count": 3,
   "metadata": {},
   "outputs": [],
   "source": [
    "# In-memory data storage (empty list)\n",
    "users = [\n",
    "    {'Id':1, 'Name':'Anku', 'Email':'heyiamparagti9009@gmail.com'},\n",
    "    {'Id':2, 'Name':'Pihu', 'Email':'praggatii09@gmnail.com'},\n",
    "    {'Id':3, 'Name':'Tiny', 'Email':'priyapragati09@gmail.com'}\n",
    "]"
   ]
  },
  {
   "cell_type": "code",
   "execution_count": 4,
   "metadata": {},
   "outputs": [],
   "source": [
    "# Creating a root\n",
    "@app.route('/')\n",
    "def home():\n",
    "    return 'Home'"
   ]
  },
  {
   "cell_type": "code",
   "execution_count": 5,
   "metadata": {},
   "outputs": [],
   "source": [
    "# GET /users - Get all the users\n",
    "# Instead of @app.get we can also use @app.route but along with (/users), we also need to give method\n",
    "# syntax: @app.route('/users', methods=['GET'])\n",
    "\n",
    "@app.get('/users')\n",
    "def get_users():\n",
    "    return jsonify(users)"
   ]
  },
  {
   "cell_type": "code",
   "execution_count": 6,
   "metadata": {},
   "outputs": [],
   "source": [
    "# GET /users/<int:user_id> - Get a specific user by ID\n",
    "@app.get('/users/<int:user_id>')\n",
    "def get_user(user_id):\n",
    "    user = next((user for user in users if user['Id'] == user_id), None)\n",
    "    if user:\n",
    "        return jsonify(user)\n",
    "    return jsonify({\"error\": \"User not found\"}), 404"
   ]
  },
  {
   "cell_type": "code",
   "execution_count": 7,
   "metadata": {},
   "outputs": [],
   "source": [
    "# POST /users - Create a new user\n",
    "@app.post('/users')\n",
    "def create_user():\n",
    "    user_data = request.get_json()\n",
    "    if 'Name' not in user_data:\n",
    "        return jsonify({'error':'Name is required'}), 400\n",
    "    \n",
    "    user={\n",
    "        'id': len(users)+1,\n",
    "        'Name':user_data['Name'],\n",
    "        'Email':user_data.get('Email','')\n",
    "    }\n",
    "    users.append(user)\n",
    "    return jsonify(user), 201"
   ]
  },
  {
   "cell_type": "code",
   "execution_count": 8,
   "metadata": {},
   "outputs": [],
   "source": [
    "# PUT /users/<int:user_id> - Update an existing user\n",
    "@app.put('/users/<int:user_id>')\n",
    "def update_user(user_id):\n",
    "    user = next((user for user in users if user['id'] == user_id), None)\n",
    "    if user:\n",
    "        user_data = request.get_json()\n",
    "        user['name'] = user_data.get('name', user['name'])\n",
    "        user['email'] = user_data.get('email', user['email'])\n",
    "        return jsonify(user)\n",
    "    return jsonify({\"error\": \"User not found\"}), 404"
   ]
  },
  {
   "cell_type": "code",
   "execution_count": 9,
   "metadata": {},
   "outputs": [],
   "source": [
    "# DELETE /users/<int:user_id> - Delete a user\n",
    "@app.delete('/users/<int:user_id>')\n",
    "def delete_user(user_id):\n",
    "    user = next((user for user in users if user['id'] == user_id), None)\n",
    "    if user:\n",
    "        users.remove(user)\n",
    "        return jsonify({\"message\": \"User deleted\"})\n",
    "    return jsonify({\"error\": \"User not found\"}), 404"
   ]
  },
  {
   "cell_type": "code",
   "execution_count": 10,
   "metadata": {},
   "outputs": [],
   "source": [
    "# Run Flask\n",
    "def run_flask():\n",
    "    app.run(debug=True, use_reloader=False, port=8003)"
   ]
  },
  {
   "cell_type": "code",
   "execution_count": null,
   "metadata": {},
   "outputs": [
    {
     "name": "stdout",
     "output_type": "stream",
     "text": [
      " * Serving Flask app '__main__'\n",
      " * Debug mode: on\n"
     ]
    },
    {
     "name": "stderr",
     "output_type": "stream",
     "text": [
      "WARNING: This is a development server. Do not use it in a production deployment. Use a production WSGI server instead.\n",
      " * Running on http://127.0.0.1:8003\n",
      "Press CTRL+C to quit\n",
      "127.0.0.1 - - [14/Nov/2024 10:32:31] \"GET /users HTTP/1.1\" 200 -\n",
      "127.0.0.1 - - [14/Nov/2024 10:33:08] \"POST /users HTTP/1.1\" 415 -\n",
      "127.0.0.1 - - [14/Nov/2024 10:35:09] \"POST /users HTTP/1.1\" 400 -\n",
      "127.0.0.1 - - [14/Nov/2024 10:36:43] \"POST /users HTTP/1.1\" 400 -\n",
      "127.0.0.1 - - [14/Nov/2024 10:36:54] \"POST /users HTTP/1.1\" 400 -\n",
      "127.0.0.1 - - [14/Nov/2024 10:37:01] \"POST /users HTTP/1.1\" 400 -\n",
      "127.0.0.1 - - [14/Nov/2024 10:38:37] \"POST /users HTTP/1.1\" 201 -\n",
      "127.0.0.1 - - [14/Nov/2024 10:38:48] \"POST /users HTTP/1.1\" 201 -\n",
      "127.0.0.1 - - [14/Nov/2024 10:39:52] \"POST /users HTTP/1.1\" 201 -\n",
      "127.0.0.1 - - [14/Nov/2024 10:59:33] \"GET /users HTTP/1.1\" 200 -\n"
     ]
    }
   ],
   "source": [
    "# Run Flask in a separate thread\n",
    "thread = threading.Thread(target=run_flask)\n",
    "thread.start()"
   ]
  },
  {
   "cell_type": "markdown",
   "metadata": {},
   "source": [
    "### Data serialization and deserialization\n",
    "\n",
    "Are processes used to convert data between different formats. Serialization converts data (like Python objects) into a format suitable for storage or transmission (e.g., JSON, XML), while deserialization converts that data back into Python objects."
   ]
  },
  {
   "cell_type": "code",
   "execution_count": null,
   "metadata": {},
   "outputs": [
    {
     "name": "stdout",
     "output_type": "stream",
     "text": [
      "{\"id\": 1, \"name\": \"Pragati Priya\", \"email\": \"pragati@example.com\"}\n"
     ]
    }
   ],
   "source": [
    "# SERIALIZATION : The process of converting a Python object into a storable or transmittable format, such as JSON, XML, or binary.\n",
    "# Usually, return.jsonify() that we use to return data, is Serialization as we are returning python code in json format.\n",
    "import json\n",
    "\n",
    "# Python object (dictionary)\n",
    "data = {\n",
    "    \"id\": 1,\n",
    "    \"name\": \"Pragati Priya\",\n",
    "    \"email\": \"pragati@example.com\"\n",
    "}\n",
    "\n",
    "# Serialize to JSON string\n",
    "json_data = json.dumps(data)\n",
    "print(json_data)  # Output: '{\"id\": 1, \"name\": \"Pragati Priya\", \"email\": \"pragati@example.com\"}'\n"
   ]
  },
  {
   "cell_type": "code",
   "execution_count": null,
   "metadata": {},
   "outputs": [
    {
     "name": "stdout",
     "output_type": "stream",
     "text": [
      "{'id': 1, 'name': 'Pragati Priya', 'email': 'pragati@example.com'}\n"
     ]
    }
   ],
   "source": [
    "# DESERIALIZATION : The process of converting a serialized format (e.g., JSON) back into a Python object.\n",
    "# Usually, request.get.json() that we use to get data, is Deserialization as we are fetching json format in python code which immediately convert it to python\n",
    "\n",
    "# JSON string\n",
    "json_data = '{\"id\": 1, \"name\": \"Pragati Priya\", \"email\": \"pragati@example.com\"}'\n",
    "\n",
    "# Deserialize to Python object (dictionary)\n",
    "data = json.loads(json_data)\n",
    "print(data)  # Output: {'id': 1, 'name': 'Pragati Priya', 'email': 'pragati@example.com'}\n"
   ]
  }
 ],
 "metadata": {
  "kernelspec": {
   "display_name": "Python 3",
   "language": "python",
   "name": "python3"
  },
  "language_info": {
   "codemirror_mode": {
    "name": "ipython",
    "version": 3
   },
   "file_extension": ".py",
   "mimetype": "text/x-python",
   "name": "python",
   "nbconvert_exporter": "python",
   "pygments_lexer": "ipython3",
   "version": "3.10.12"
  }
 },
 "nbformat": 4,
 "nbformat_minor": 2
}
